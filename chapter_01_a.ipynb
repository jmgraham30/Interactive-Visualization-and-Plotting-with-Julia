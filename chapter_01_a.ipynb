{
 "cells": [
  {
   "cell_type": "code",
   "execution_count": 1,
   "id": "6c2f47c6",
   "metadata": {},
   "outputs": [],
   "source": [
    "import Pkg;"
   ]
  },
  {
   "cell_type": "code",
   "execution_count": 2,
   "id": "b4efa090",
   "metadata": {},
   "outputs": [
    {
     "data": {
      "text/plain": [
       "\"/Users/jasongraham/Documents/GitHub/Interactive-Visualization-and-Plotting-with-Julia\""
      ]
     },
     "execution_count": 2,
     "metadata": {},
     "output_type": "execute_result"
    }
   ],
   "source": [
    "pwd()"
   ]
  },
  {
   "cell_type": "code",
   "execution_count": 3,
   "id": "d3ad0dea",
   "metadata": {},
   "outputs": [
    {
     "name": "stderr",
     "output_type": "stream",
     "text": [
      "\u001b[32m\u001b[1m  Activating\u001b[22m\u001b[39m environment at `~/Documents/GitHub/Interactive-Visualization-and-Plotting-with-Julia/Project.toml`\n"
     ]
    }
   ],
   "source": [
    "Pkg.activate(\".\")"
   ]
  },
  {
   "cell_type": "code",
   "execution_count": 6,
   "id": "4bea3fc5",
   "metadata": {},
   "outputs": [
    {
     "name": "stdout",
     "output_type": "stream",
     "text": [
      "\u001b[32m\u001b[1m      Status\u001b[22m\u001b[39m `~/Documents/GitHub/Interactive-Visualization-and-Plotting-with-Julia/Project.toml`\n",
      " \u001b[90m [cbdf2221] \u001b[39mAlgebraOfGraphics v0.6.13\n",
      " \u001b[90m [13f3f980] \u001b[39mCairoMakie v0.10.1\n",
      " \u001b[90m [a93c6f00] \u001b[39mDataFrames v1.4.4\n",
      " \u001b[90m [e9467ef8] \u001b[39mGLMakie v0.8.1\n",
      " \u001b[90m [c91e804a] \u001b[39mGadfly v1.3.4\n",
      " \u001b[90m [db073c08] \u001b[39mGeoMakie v0.5.0\n",
      " \u001b[90m [1ecd5474] \u001b[39mGraphMakie v0.5.1\n",
      " \u001b[90m [a2cc645c] \u001b[39mGraphPlot v0.5.2\n",
      " \u001b[90m [bd48cda9] \u001b[39mGraphRecipes v0.5.12\n",
      " \u001b[90m [7073ff75] \u001b[39mIJulia v1.24.0\n",
      " \u001b[90m [b964fa9f] \u001b[39mLaTeXStrings v1.3.0\n",
      " \u001b[90m [093fc24a] \u001b[39mLightGraphs v1.3.5\n",
      " \u001b[90m [626554b9] \u001b[39mMetaGraphs v0.7.2\n",
      " \u001b[90m [86cd37e6] \u001b[39mOpenStreetMapX v0.3.3\n",
      " \u001b[90m [3b7a836e] \u001b[39mPGFPlots v3.4.2\n",
      " \u001b[90m [91a5bcdd] \u001b[39mPlots v1.38.2\n",
      " \u001b[90m [c3e4b0f8] \u001b[39mPluto v0.19.19\n",
      " \u001b[90m [f3b207a7] \u001b[39mStatsPlots v0.15.4\n",
      " \u001b[90m [112f6efa] \u001b[39mVegaLite v2.6.0\n"
     ]
    }
   ],
   "source": [
    "Pkg.status()"
   ]
  },
  {
   "cell_type": "code",
   "execution_count": null,
   "id": "7b05f891",
   "metadata": {},
   "outputs": [],
   "source": []
  }
 ],
 "metadata": {
  "kernelspec": {
   "display_name": "Julia 1.6.7",
   "language": "julia",
   "name": "julia-1.6"
  },
  "language_info": {
   "file_extension": ".jl",
   "mimetype": "application/julia",
   "name": "julia",
   "version": "1.6.7"
  }
 },
 "nbformat": 4,
 "nbformat_minor": 5
}
